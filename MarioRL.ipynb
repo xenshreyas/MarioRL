{
 "cells": [
  {
   "cell_type": "markdown",
   "id": "70eff3a7-2ca5-45ba-8f37-53ded430168b",
   "metadata": {},
   "source": [
    "## Initial Setup for the Mario Game"
   ]
  },
  {
   "cell_type": "code",
   "execution_count": null,
   "id": "4de617f8-fbf6-455a-99bc-b0958043e526",
   "metadata": {},
   "outputs": [],
   "source": [
    "!pip install gym_super_mario_bros==7.3.0 nes_py"
   ]
  },
  {
   "cell_type": "code",
   "execution_count": null,
   "id": "2784b88d-a768-4f77-86bc-3927569f1089",
   "metadata": {},
   "outputs": [],
   "source": [
    "# Import the game from OpenAI Gym\n",
    "import gym_super_mario_bros\n",
    "\n",
    "# Import the Joypad Wrapper\n",
    "from nes_py.wrappers import JoypadSpace\n",
    "\n",
    "# Import the Simplified controls\n",
    "from gym_super_mario_bros.actions import SIMPLE_MOVEMENT"
   ]
  },
  {
   "cell_type": "code",
   "execution_count": null,
   "id": "bf92ecc0-d668-49b5-a2a3-fc15485a545c",
   "metadata": {},
   "outputs": [],
   "source": [
    "# Set up the game\n",
    "env = gym_super_mario_bros.make('SuperMarioBros-v0') # The original Super Mario Bros\n",
    "env = JoypadSpace(env, SIMPLE_MOVEMENT) # bind simple movements (7 controls instead of 256) to the environment\n",
    "\n",
    "# env.observation_space.shape # the game frames\n",
    "# env.action_space # the possible actions (controls)"
   ]
  },
  {
   "cell_type": "code",
   "execution_count": null,
   "id": "5bdb7a66-d096-4cc0-938f-78c7aeb17339",
   "metadata": {},
   "outputs": [],
   "source": [
    "done = True # flag for whether or not to restart the game\n",
    "for frame in range(100000): # loop through each frame in the game\n",
    "    if done: # start the game by resetting the environment\n",
    "        env.reset()\n",
    "    state, reward, done, info = env.step(env.action_space.sample()) # perform a random action\n",
    "    # state: frame from the game (colored image)\n",
    "    # reward: point system to train mario to go as far to the right as possible\n",
    "    # done: whether the game ended (mario is dead)\n",
    "    # info: coins collected, status, etc.\n",
    "    env.render() # render the game onto the screen\n",
    "env.close() # close the game"
   ]
  },
  {
   "cell_type": "markdown",
   "id": "1d5bb018-e983-4443-8282-8a2533be4721",
   "metadata": {},
   "source": [
    "## Environment Preprocessing"
   ]
  },
  {
   "cell_type": "code",
   "execution_count": null,
   "id": "cddb3e1b-2bba-46ae-afa4-682f1cfbe322",
   "metadata": {},
   "outputs": [],
   "source": [
    "# Install pytorch\n",
    "!pip install torch==1.10.1+cu113 torchvision==0.11.2+cu113 torchaudio===0.10.1+cu113 -f https://download.pytorch.org\n",
    "# CUDA 11.3 used due to parallel processing abilities allowing more data processing with less power consumption"
   ]
  },
  {
   "cell_type": "code",
   "execution_count": null,
   "id": "ed70f46e-95f5-4bd3-aa52-d2ea0a399a84",
   "metadata": {},
   "outputs": [],
   "source": [
    "# Install stable baselines for Reinforced Learning\n",
    "!pip install stable-baselines3[extra] # Proximal Policy Optimization used to train the RL Model (made by OpenAI)"
   ]
  },
  {
   "cell_type": "code",
   "execution_count": null,
   "id": "51152028-a8b1-43c5-94fa-57e2a359a26d",
   "metadata": {},
   "outputs": [],
   "source": [
    "# Import Frame Stacker Wrapper and GrayScaling Wrapper\n",
    "from gym.wrappers import GrayScaleObservation\n",
    "\n",
    "# Import Vectorization Wrappers\n",
    "from stable_baselines3.common.vec_env import VecFrameStack, DummyVecEnv # vectorization for frame stack\n",
    "\n",
    "# Import Matplotlib to show the impact of frame stacking\n",
    "from matplotlib import pyplot as plt"
   ]
  },
  {
   "cell_type": "code",
   "execution_count": null,
   "id": "34d8f063-cab7-4bc4-86ca-6d63e330307c",
   "metadata": {},
   "outputs": [],
   "source": [
    "# 1. Create the base environment\n",
    "env = gym_super_mario_bros.make('SuperMarioBros-v0')\n",
    "\n",
    "# 2. Simplify the controls \n",
    "env = JoypadSpace(env, SIMPLE_MOVEMENT)\n",
    "\n",
    "# 3. Grayscale the environment to reduce the data to 33% (61440 pixels)\n",
    "env = GrayScaleObservation(env, keep_dim=True)\n",
    "\n",
    "# 4. Wrap inside the Dummy Environment\n",
    "env = DummyVecEnv([lambda: env])\n",
    "\n",
    "# 5. Stack the frames\n",
    "env = VecFrameStack(env, 4, channels_order='last')"
   ]
  },
  {
   "cell_type": "code",
   "execution_count": null,
   "id": "d8b1f548-de24-4d3b-949c-247656bce82a",
   "metadata": {},
   "outputs": [],
   "source": [
    "state = env.reset() # reset the environment\n",
    "# plt.imshow(state[0]) # plots the state (a color frame from the game), which is now grayscale"
   ]
  },
  {
   "cell_type": "code",
   "execution_count": null,
   "id": "0622de18-9eda-47b9-9389-6d431d853ee3",
   "metadata": {},
   "outputs": [],
   "source": [
    "state, reward, done, info = env.step([5])"
   ]
  },
  {
   "cell_type": "code",
   "execution_count": null,
   "id": "68b79f92-60df-4aa9-a265-bdb1f510c4c8",
   "metadata": {},
   "outputs": [],
   "source": [
    "# Code to visualize the stacked frames\n",
    "plt.figure(figsize=(20,16))\n",
    "for idx in range(state.shape[3]):\n",
    "    plt.subplot(1,4,idx+1)\n",
    "    plt.imshow(state[0][:,:,idx])\n",
    "plt.show()"
   ]
  },
  {
   "cell_type": "markdown",
   "id": "257ae938-9ec0-428d-b870-e057239033f1",
   "metadata": {},
   "source": [
    "## Training the Reinforced Learning Model"
   ]
  },
  {
   "cell_type": "code",
   "execution_count": null,
   "id": "b8963a27-6236-45b6-8fd9-954b3137942c",
   "metadata": {},
   "outputs": [],
   "source": [
    "# Import os for file path management\n",
    "import os\n",
    "\n",
    "# Import PPO for algos\n",
    "from stable_baselines3 import PPO\n",
    "\n",
    "# Import Base Callback for saving models\n",
    "from stable_baselines3.common.callbacks import BaseCallback"
   ]
  },
  {
   "cell_type": "code",
   "execution_count": null,
   "id": "d5a9eddb-d139-4770-9f9d-fb302f251b30",
   "metadata": {},
   "outputs": [],
   "source": [
    "# Callback to save the model every 10,000 steps (takes a LOT of space!)\n",
    "class TrainAndLoggingCallback(BaseCallback):\n",
    "\n",
    "    def __init__(self, check_freq, save_path, verbose=1):\n",
    "        super(TrainAndLoggingCallback, self).__init__(verbose)\n",
    "        self.check_freq = check_freq\n",
    "        self.save_path = save_path\n",
    "\n",
    "    def _init_callback(self):\n",
    "        if self.save_path is not None:\n",
    "            os.makedirs(self.save_path, exist_ok=True)\n",
    "\n",
    "    def _on_step(self):\n",
    "        if self.n_calls % self.check_freq == 0:\n",
    "            model_path = os.path.join(self.save_path, 'best_model_{}'.format(self.n_calls))\n",
    "            self.model.save(model_path)\n",
    "\n",
    "        return True"
   ]
  },
  {
   "cell_type": "code",
   "execution_count": null,
   "id": "85661b1a-4c9b-4822-a7df-7a75dedf476d",
   "metadata": {},
   "outputs": [],
   "source": [
    "# Directory setup\n",
    "CHECKPOINT_DIR = './train/'\n",
    "LOG_DIR = './logs/'"
   ]
  },
  {
   "cell_type": "code",
   "execution_count": null,
   "id": "7ff981a2-2bc7-4d88-a745-1e3fd32fcd43",
   "metadata": {},
   "outputs": [],
   "source": [
    "# Setup model saving callback\n",
    "callback = TrainAndLoggingCallback(check_freq=10000, save_path=CHECKPOINT_DIR) # calls the Callback function to save every 10,000 steps"
   ]
  },
  {
   "cell_type": "code",
   "execution_count": null,
   "id": "5bddc87e-7ef8-46d3-8c36-41d3422be9f5",
   "metadata": {},
   "outputs": [],
   "source": [
    "# This is the AI model started\n",
    "model = PPO('CnnPolicy', env, verbose=1, tensorboard_log=LOG_DIR, learning_rate=0.000001, n_steps=512)\n",
    "# CNN (Conversational Neural Network) Policy: Processes images fast; Alternative MLP Policy\n",
    "# verbose: to get back a lot of information from the training\n",
    "# learning_rate: the rate at which the model learns (can take a long time)\n",
    "# n_steps: the number of frames to wait before updating the model"
   ]
  },
  {
   "cell_type": "code",
   "execution_count": null,
   "id": "99f58d11-41fc-409c-a083-103318ab8c37",
   "metadata": {},
   "outputs": [],
   "source": [
    "# Train the AI model, this is where the AI model starts to learn\n",
    "model.learn(total_timesteps=1000000, callback=callback) # !-- This takes a while --! (GPU preferred)"
   ]
  },
  {
   "cell_type": "code",
   "execution_count": null,
   "id": "753a7c78-30cf-463d-9c46-8b536bf2b7f6",
   "metadata": {},
   "outputs": [],
   "source": [
    "model.save('testModel') # saving the model "
   ]
  },
  {
   "cell_type": "markdown",
   "id": "6efcafdc-1cf3-43e0-a0dc-f97593c63254",
   "metadata": {},
   "source": [
    "## Testing the RL Model"
   ]
  },
  {
   "cell_type": "code",
   "execution_count": null,
   "id": "1a73d325-309b-4b97-b5ca-2979ee40845b",
   "metadata": {},
   "outputs": [],
   "source": [
    "# Load model\n",
    "model = PPO.load('./train/best_model_1000000') # loads the model in"
   ]
  },
  {
   "cell_type": "code",
   "execution_count": null,
   "id": "249ece17-e68a-464c-8661-c2960001e65f",
   "metadata": {},
   "outputs": [],
   "source": [
    "state = env.reset() # resetting the environment"
   ]
  },
  {
   "cell_type": "code",
   "execution_count": null,
   "id": "ef33ed9b-e92a-4ca2-b834-55c3223b1918",
   "metadata": {},
   "outputs": [],
   "source": [
    "# Start the game \n",
    "state = env.reset()\n",
    "# Loop through the game\n",
    "while True: \n",
    "    action, _ = model.predict(state) # gets the action from the model's prediction for the given state that is passed in\n",
    "    state, reward, done, info = env.step(action) # getting the state, reward, done and info from the environment (same as above)\n",
    "    env.render() # rendering the environment onto the screen"
   ]
  }
 ],
 "metadata": {
  "kernelspec": {
   "display_name": "Python 3 (ipykernel)",
   "language": "python",
   "name": "python3"
  },
  "language_info": {
   "codemirror_mode": {
    "name": "ipython",
    "version": 3
   },
   "file_extension": ".py",
   "mimetype": "text/x-python",
   "name": "python",
   "nbconvert_exporter": "python",
   "pygments_lexer": "ipython3",
   "version": "3.11.4"
  }
 },
 "nbformat": 4,
 "nbformat_minor": 5
}
